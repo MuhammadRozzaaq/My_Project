{
 "cells": [
  {
   "cell_type": "markdown",
   "metadata": {},
   "source": [
    "# 1. Perkenalan"
   ]
  },
  {
   "cell_type": "markdown",
   "metadata": {},
   "source": [
    "=======================================================================\n",
    "Milestone 2\n",
    "\n",
    "Nama        : Muhammad Rozzaaq\\\n",
    "Batch       : RMT-033\\\n",
    "Objective   : Objek dari program ini adalah membuat model untuk memprediksi apakah responden mengidap diabetes apa tidak\n",
    "\n",
    "\n",
    "=======================================================================\n"
   ]
  },
  {
   "cell_type": "markdown",
   "metadata": {},
   "source": [
    "# 2. Import Libraries"
   ]
  },
  {
   "cell_type": "code",
   "execution_count": 67,
   "metadata": {},
   "outputs": [],
   "source": [
    "import pandas as pd\n",
    "import numpy as np\n",
    "import matplotlib.pyplot as plt\n",
    "import seaborn as sns\n",
    "from scipy import stats\n",
    "from scipy.stats import kendalltau\n",
    "\n",
    "from sklearn.model_selection import train_test_split\n",
    "\n",
    "# Scaler & Encoder\n",
    "from sklearn.preprocessing import MinMaxScaler, OneHotEncoder\n",
    "\n",
    "# Model\n",
    "from sklearn.neighbors import KNeighborsClassifier\n",
    "from sklearn.svm import SVC\n",
    "\n",
    "from sklearn.tree import DecisionTreeClassifier\n",
    "from sklearn.ensemble import RandomForestClassifier\n",
    "from sklearn.metrics import classification_report, recall_score\n",
    "from sklearn.model_selection import cross_val_score, GridSearchCV\n",
    "from sklearn.compose import ColumnTransformer, make_column_selector as selector\n",
    "from sklearn.pipeline import Pipeline\n",
    "from xgboost import XGBClassifier\n",
    "\n",
    "import joblib\n"
   ]
  },
  {
   "cell_type": "markdown",
   "metadata": {},
   "source": [
    "# 3. Data Loading\n"
   ]
  },
  {
   "cell_type": "code",
   "execution_count": 2,
   "metadata": {},
   "outputs": [
    {
     "data": {
      "text/html": [
       "<div>\n",
       "<style scoped>\n",
       "    .dataframe tbody tr th:only-of-type {\n",
       "        vertical-align: middle;\n",
       "    }\n",
       "\n",
       "    .dataframe tbody tr th {\n",
       "        vertical-align: top;\n",
       "    }\n",
       "\n",
       "    .dataframe thead th {\n",
       "        text-align: right;\n",
       "    }\n",
       "</style>\n",
       "<table border=\"1\" class=\"dataframe\">\n",
       "  <thead>\n",
       "    <tr style=\"text-align: right;\">\n",
       "      <th></th>\n",
       "      <th>gender</th>\n",
       "      <th>age</th>\n",
       "      <th>hypertension</th>\n",
       "      <th>heart_disease</th>\n",
       "      <th>smoking_history</th>\n",
       "      <th>bmi</th>\n",
       "      <th>HbA1c_level</th>\n",
       "      <th>blood_glucose_level</th>\n",
       "      <th>diabetes</th>\n",
       "    </tr>\n",
       "  </thead>\n",
       "  <tbody>\n",
       "    <tr>\n",
       "      <th>0</th>\n",
       "      <td>Female</td>\n",
       "      <td>80.0</td>\n",
       "      <td>0</td>\n",
       "      <td>1</td>\n",
       "      <td>never</td>\n",
       "      <td>25.19</td>\n",
       "      <td>6.6</td>\n",
       "      <td>140</td>\n",
       "      <td>0</td>\n",
       "    </tr>\n",
       "    <tr>\n",
       "      <th>1</th>\n",
       "      <td>Female</td>\n",
       "      <td>54.0</td>\n",
       "      <td>0</td>\n",
       "      <td>0</td>\n",
       "      <td>No Info</td>\n",
       "      <td>27.32</td>\n",
       "      <td>6.6</td>\n",
       "      <td>80</td>\n",
       "      <td>0</td>\n",
       "    </tr>\n",
       "    <tr>\n",
       "      <th>2</th>\n",
       "      <td>Male</td>\n",
       "      <td>28.0</td>\n",
       "      <td>0</td>\n",
       "      <td>0</td>\n",
       "      <td>never</td>\n",
       "      <td>27.32</td>\n",
       "      <td>5.7</td>\n",
       "      <td>158</td>\n",
       "      <td>0</td>\n",
       "    </tr>\n",
       "    <tr>\n",
       "      <th>3</th>\n",
       "      <td>Female</td>\n",
       "      <td>36.0</td>\n",
       "      <td>0</td>\n",
       "      <td>0</td>\n",
       "      <td>current</td>\n",
       "      <td>23.45</td>\n",
       "      <td>5.0</td>\n",
       "      <td>155</td>\n",
       "      <td>0</td>\n",
       "    </tr>\n",
       "    <tr>\n",
       "      <th>4</th>\n",
       "      <td>Male</td>\n",
       "      <td>76.0</td>\n",
       "      <td>1</td>\n",
       "      <td>1</td>\n",
       "      <td>current</td>\n",
       "      <td>20.14</td>\n",
       "      <td>4.8</td>\n",
       "      <td>155</td>\n",
       "      <td>0</td>\n",
       "    </tr>\n",
       "    <tr>\n",
       "      <th>...</th>\n",
       "      <td>...</td>\n",
       "      <td>...</td>\n",
       "      <td>...</td>\n",
       "      <td>...</td>\n",
       "      <td>...</td>\n",
       "      <td>...</td>\n",
       "      <td>...</td>\n",
       "      <td>...</td>\n",
       "      <td>...</td>\n",
       "    </tr>\n",
       "    <tr>\n",
       "      <th>99995</th>\n",
       "      <td>Female</td>\n",
       "      <td>80.0</td>\n",
       "      <td>0</td>\n",
       "      <td>0</td>\n",
       "      <td>No Info</td>\n",
       "      <td>27.32</td>\n",
       "      <td>6.2</td>\n",
       "      <td>90</td>\n",
       "      <td>0</td>\n",
       "    </tr>\n",
       "    <tr>\n",
       "      <th>99996</th>\n",
       "      <td>Female</td>\n",
       "      <td>2.0</td>\n",
       "      <td>0</td>\n",
       "      <td>0</td>\n",
       "      <td>No Info</td>\n",
       "      <td>17.37</td>\n",
       "      <td>6.5</td>\n",
       "      <td>100</td>\n",
       "      <td>0</td>\n",
       "    </tr>\n",
       "    <tr>\n",
       "      <th>99997</th>\n",
       "      <td>Male</td>\n",
       "      <td>66.0</td>\n",
       "      <td>0</td>\n",
       "      <td>0</td>\n",
       "      <td>former</td>\n",
       "      <td>27.83</td>\n",
       "      <td>5.7</td>\n",
       "      <td>155</td>\n",
       "      <td>0</td>\n",
       "    </tr>\n",
       "    <tr>\n",
       "      <th>99998</th>\n",
       "      <td>Female</td>\n",
       "      <td>24.0</td>\n",
       "      <td>0</td>\n",
       "      <td>0</td>\n",
       "      <td>never</td>\n",
       "      <td>35.42</td>\n",
       "      <td>4.0</td>\n",
       "      <td>100</td>\n",
       "      <td>0</td>\n",
       "    </tr>\n",
       "    <tr>\n",
       "      <th>99999</th>\n",
       "      <td>Female</td>\n",
       "      <td>57.0</td>\n",
       "      <td>0</td>\n",
       "      <td>0</td>\n",
       "      <td>current</td>\n",
       "      <td>22.43</td>\n",
       "      <td>6.6</td>\n",
       "      <td>90</td>\n",
       "      <td>0</td>\n",
       "    </tr>\n",
       "  </tbody>\n",
       "</table>\n",
       "<p>100000 rows × 9 columns</p>\n",
       "</div>"
      ],
      "text/plain": [
       "       gender   age  hypertension  heart_disease smoking_history    bmi  \\\n",
       "0      Female  80.0             0              1           never  25.19   \n",
       "1      Female  54.0             0              0         No Info  27.32   \n",
       "2        Male  28.0             0              0           never  27.32   \n",
       "3      Female  36.0             0              0         current  23.45   \n",
       "4        Male  76.0             1              1         current  20.14   \n",
       "...       ...   ...           ...            ...             ...    ...   \n",
       "99995  Female  80.0             0              0         No Info  27.32   \n",
       "99996  Female   2.0             0              0         No Info  17.37   \n",
       "99997    Male  66.0             0              0          former  27.83   \n",
       "99998  Female  24.0             0              0           never  35.42   \n",
       "99999  Female  57.0             0              0         current  22.43   \n",
       "\n",
       "       HbA1c_level  blood_glucose_level  diabetes  \n",
       "0              6.6                  140         0  \n",
       "1              6.6                   80         0  \n",
       "2              5.7                  158         0  \n",
       "3              5.0                  155         0  \n",
       "4              4.8                  155         0  \n",
       "...            ...                  ...       ...  \n",
       "99995          6.2                   90         0  \n",
       "99996          6.5                  100         0  \n",
       "99997          5.7                  155         0  \n",
       "99998          4.0                  100         0  \n",
       "99999          6.6                   90         0  \n",
       "\n",
       "[100000 rows x 9 columns]"
      ]
     },
     "execution_count": 2,
     "metadata": {},
     "output_type": "execute_result"
    }
   ],
   "source": [
    "df_ori = pd.read_csv('diabetes_prediction_dataset.csv')\n",
    "df = df_ori\n",
    "df"
   ]
  },
  {
   "cell_type": "code",
   "execution_count": 59,
   "metadata": {},
   "outputs": [
    {
     "data": {
      "text/plain": [
       "np.float64(9.0)"
      ]
     },
     "execution_count": 59,
     "metadata": {},
     "output_type": "execute_result"
    }
   ],
   "source": [
    "df['HbA1c_level'].unique().max()"
   ]
  },
  {
   "cell_type": "code",
   "execution_count": 4,
   "metadata": {},
   "outputs": [
    {
     "name": "stdout",
     "output_type": "stream",
     "text": [
      "<class 'pandas.core.frame.DataFrame'>\n",
      "RangeIndex: 100000 entries, 0 to 99999\n",
      "Data columns (total 9 columns):\n",
      " #   Column               Non-Null Count   Dtype  \n",
      "---  ------               --------------   -----  \n",
      " 0   gender               100000 non-null  object \n",
      " 1   age                  100000 non-null  float64\n",
      " 2   hypertension         100000 non-null  int64  \n",
      " 3   heart_disease        100000 non-null  int64  \n",
      " 4   smoking_history      100000 non-null  object \n",
      " 5   bmi                  100000 non-null  float64\n",
      " 6   HbA1c_level          100000 non-null  float64\n",
      " 7   blood_glucose_level  100000 non-null  int64  \n",
      " 8   diabetes             100000 non-null  int64  \n",
      "dtypes: float64(3), int64(4), object(2)\n",
      "memory usage: 6.9+ MB\n"
     ]
    }
   ],
   "source": [
    "df.info()"
   ]
  },
  {
   "cell_type": "markdown",
   "metadata": {},
   "source": [
    "Tipe data sudah sesuai. maka tidak dilakukan normalisasi data"
   ]
  },
  {
   "cell_type": "code",
   "execution_count": 5,
   "metadata": {},
   "outputs": [
    {
     "data": {
      "text/plain": [
       "gender                 0\n",
       "age                    0\n",
       "hypertension           0\n",
       "heart_disease          0\n",
       "smoking_history        0\n",
       "bmi                    0\n",
       "HbA1c_level            0\n",
       "blood_glucose_level    0\n",
       "diabetes               0\n",
       "dtype: int64"
      ]
     },
     "execution_count": 5,
     "metadata": {},
     "output_type": "execute_result"
    }
   ],
   "source": [
    "df.isnull().sum()"
   ]
  },
  {
   "cell_type": "code",
   "execution_count": 67,
   "metadata": {},
   "outputs": [
    {
     "data": {
      "text/plain": [
       "np.int64(3854)"
      ]
     },
     "execution_count": 67,
     "metadata": {},
     "output_type": "execute_result"
    }
   ],
   "source": [
    "df.duplicated().sum()"
   ]
  },
  {
   "cell_type": "markdown",
   "metadata": {},
   "source": [
    "Terdapat 3,854 duplicated data. selanjutnya data yang terduplikasi akan di drop."
   ]
  },
  {
   "cell_type": "code",
   "execution_count": 3,
   "metadata": {},
   "outputs": [],
   "source": [
    "df = df.drop_duplicates()"
   ]
  },
  {
   "cell_type": "code",
   "execution_count": 4,
   "metadata": {},
   "outputs": [
    {
     "data": {
      "text/plain": [
       "np.int64(0)"
      ]
     },
     "execution_count": 4,
     "metadata": {},
     "output_type": "execute_result"
    }
   ],
   "source": [
    "df.duplicated().sum()"
   ]
  },
  {
   "cell_type": "code",
   "execution_count": 96,
   "metadata": {},
   "outputs": [
    {
     "data": {
      "text/html": [
       "<div>\n",
       "<style scoped>\n",
       "    .dataframe tbody tr th:only-of-type {\n",
       "        vertical-align: middle;\n",
       "    }\n",
       "\n",
       "    .dataframe tbody tr th {\n",
       "        vertical-align: top;\n",
       "    }\n",
       "\n",
       "    .dataframe thead th {\n",
       "        text-align: right;\n",
       "    }\n",
       "</style>\n",
       "<table border=\"1\" class=\"dataframe\">\n",
       "  <thead>\n",
       "    <tr style=\"text-align: right;\">\n",
       "      <th></th>\n",
       "      <th>age</th>\n",
       "      <th>hypertension</th>\n",
       "      <th>heart_disease</th>\n",
       "      <th>bmi</th>\n",
       "      <th>HbA1c_level</th>\n",
       "      <th>blood_glucose_level</th>\n",
       "      <th>diabetes</th>\n",
       "    </tr>\n",
       "  </thead>\n",
       "  <tbody>\n",
       "    <tr>\n",
       "      <th>count</th>\n",
       "      <td>96146.000000</td>\n",
       "      <td>96146.000000</td>\n",
       "      <td>96146.000000</td>\n",
       "      <td>96146.000000</td>\n",
       "      <td>96146.000000</td>\n",
       "      <td>96146.000000</td>\n",
       "      <td>96146.000000</td>\n",
       "    </tr>\n",
       "    <tr>\n",
       "      <th>mean</th>\n",
       "      <td>41.794326</td>\n",
       "      <td>0.077601</td>\n",
       "      <td>0.040803</td>\n",
       "      <td>27.321461</td>\n",
       "      <td>5.532609</td>\n",
       "      <td>138.218231</td>\n",
       "      <td>0.088220</td>\n",
       "    </tr>\n",
       "    <tr>\n",
       "      <th>std</th>\n",
       "      <td>22.462948</td>\n",
       "      <td>0.267544</td>\n",
       "      <td>0.197833</td>\n",
       "      <td>6.767716</td>\n",
       "      <td>1.073232</td>\n",
       "      <td>40.909771</td>\n",
       "      <td>0.283616</td>\n",
       "    </tr>\n",
       "    <tr>\n",
       "      <th>min</th>\n",
       "      <td>0.080000</td>\n",
       "      <td>0.000000</td>\n",
       "      <td>0.000000</td>\n",
       "      <td>10.010000</td>\n",
       "      <td>3.500000</td>\n",
       "      <td>80.000000</td>\n",
       "      <td>0.000000</td>\n",
       "    </tr>\n",
       "    <tr>\n",
       "      <th>25%</th>\n",
       "      <td>24.000000</td>\n",
       "      <td>0.000000</td>\n",
       "      <td>0.000000</td>\n",
       "      <td>23.400000</td>\n",
       "      <td>4.800000</td>\n",
       "      <td>100.000000</td>\n",
       "      <td>0.000000</td>\n",
       "    </tr>\n",
       "    <tr>\n",
       "      <th>50%</th>\n",
       "      <td>43.000000</td>\n",
       "      <td>0.000000</td>\n",
       "      <td>0.000000</td>\n",
       "      <td>27.320000</td>\n",
       "      <td>5.800000</td>\n",
       "      <td>140.000000</td>\n",
       "      <td>0.000000</td>\n",
       "    </tr>\n",
       "    <tr>\n",
       "      <th>75%</th>\n",
       "      <td>59.000000</td>\n",
       "      <td>0.000000</td>\n",
       "      <td>0.000000</td>\n",
       "      <td>29.860000</td>\n",
       "      <td>6.200000</td>\n",
       "      <td>159.000000</td>\n",
       "      <td>0.000000</td>\n",
       "    </tr>\n",
       "    <tr>\n",
       "      <th>max</th>\n",
       "      <td>80.000000</td>\n",
       "      <td>1.000000</td>\n",
       "      <td>1.000000</td>\n",
       "      <td>95.690000</td>\n",
       "      <td>9.000000</td>\n",
       "      <td>300.000000</td>\n",
       "      <td>1.000000</td>\n",
       "    </tr>\n",
       "  </tbody>\n",
       "</table>\n",
       "</div>"
      ],
      "text/plain": [
       "                age  hypertension  heart_disease           bmi   HbA1c_level  \\\n",
       "count  96146.000000  96146.000000   96146.000000  96146.000000  96146.000000   \n",
       "mean      41.794326      0.077601       0.040803     27.321461      5.532609   \n",
       "std       22.462948      0.267544       0.197833      6.767716      1.073232   \n",
       "min        0.080000      0.000000       0.000000     10.010000      3.500000   \n",
       "25%       24.000000      0.000000       0.000000     23.400000      4.800000   \n",
       "50%       43.000000      0.000000       0.000000     27.320000      5.800000   \n",
       "75%       59.000000      0.000000       0.000000     29.860000      6.200000   \n",
       "max       80.000000      1.000000       1.000000     95.690000      9.000000   \n",
       "\n",
       "       blood_glucose_level      diabetes  \n",
       "count         96146.000000  96146.000000  \n",
       "mean            138.218231      0.088220  \n",
       "std              40.909771      0.283616  \n",
       "min              80.000000      0.000000  \n",
       "25%             100.000000      0.000000  \n",
       "50%             140.000000      0.000000  \n",
       "75%             159.000000      0.000000  \n",
       "max             300.000000      1.000000  "
      ]
     },
     "execution_count": 96,
     "metadata": {},
     "output_type": "execute_result"
    }
   ],
   "source": [
    "df.describe()"
   ]
  },
  {
   "cell_type": "markdown",
   "metadata": {},
   "source": [
    "# 4. Exploratory Data Analysis (EDA)"
   ]
  },
  {
   "cell_type": "markdown",
   "metadata": {},
   "source": [
    "### Meta Data"
   ]
  },
  {
   "cell_type": "markdown",
   "metadata": {},
   "source": [
    "```\n",
    "gender                  : Jenis kelamin responden\n",
    "age                     : Usia responden\n",
    "hypertension            : Kondisi dimana responden memiliki tekanan darah tinggi atau tidak. (1=True/memiliki tekanan darah tinggi, 0=False/Tidak memiliki tekanan darah tinggi)\n",
    "heart_disease           : Kondisi dimana responden memiliki penyakit jantung atau tidak. (1=True/memiliki penyakit jantung, 0=False/Tidak memiliki penyakit jantung)\n",
    "smoking_history         : Riwayat merokok. Menggambarkan apakah responden pernah merokok atau tidak.\n",
    "bmi                     : Body Mass Index (Indeks Massa Tubuh), Indikator apakah responden obesitas atau tidak. Hasil dari tinggi di bagi berat badan. \n",
    "HbA1c_level             : Kadar HbA1c (Hemoglobin A1c), Ukuran kadar gula darah rata-rata seseorang selama 2-3 bulan terakhir.\n",
    "blood_glucose_level     : Kadar glukosa darah, Jumlah glukosa dalam aliran darah pada waktu tertentu.\n",
    "diabetes                : \n",
    "```"
   ]
  },
  {
   "cell_type": "code",
   "execution_count": 5,
   "metadata": {},
   "outputs": [],
   "source": [
    "df_eda = df.copy()"
   ]
  },
  {
   "cell_type": "code",
   "execution_count": 6,
   "metadata": {},
   "outputs": [
    {
     "data": {
      "image/png": "[encoded data removed]",
      "text/plain": [
       "<Figure size 3000x4000 with 6 Axes>"
      ]
     },
     "metadata": {},
     "output_type": "display_data"
    }
   ],
   "source": [
    "cent = ['age', 'hypertension', 'heart_disease', 'bmi', 'HbA1c_level', 'blood_glucose_level']\n",
    "plt.figure(figsize=(30, 40))\n",
    "\n",
    "# Histogram\n",
    "for i, col in enumerate(cent):\n",
    "    plt.subplot(9, 1, i+1)\n",
    "    sns.histplot(df[col],  color='red', edgecolor='black', kde=True)\n",
    "    plt.title(col)\n",
    "\n",
    "# Layout\n",
    "plt.tight_layout()\n",
    "plt.show()"
   ]
  },
  {
   "cell_type": "code",
   "execution_count": 98,
   "metadata": {},
   "outputs": [
    {
     "data": {
      "text/plain": [
       "bmi\n",
       "27.32    21666\n",
       "23.00      103\n",
       "27.12      101\n",
       "27.80      100\n",
       "24.96      100\n",
       "         ...  \n",
       "56.10        1\n",
       "50.27        1\n",
       "55.04        1\n",
       "56.65        1\n",
       "53.37        1\n",
       "Name: count, Length: 4247, dtype: int64"
      ]
     },
     "execution_count": 98,
     "metadata": {},
     "output_type": "execute_result"
    }
   ],
   "source": [
    "df_eda['bmi'].value_counts()"
   ]
  },
  {
   "cell_type": "markdown",
   "metadata": {},
   "source": [
    "Pada kolom Hypertension terlihat sebagian besar responden tidak memiliki teknn darah tinggi\\\n",
    "Pada kolom Heart_Deases juga terlihat sebagian besar responden tidak memiliki serangan jantung\\\n",
    "Pada kolom bmi, responden dengan nilai bmi 27.32 adalah yang terbanyak. "
   ]
  },
  {
   "cell_type": "code",
   "execution_count": 99,
   "metadata": {},
   "outputs": [
    {
     "data": {
      "text/html": [
       "<div>\n",
       "<style scoped>\n",
       "    .dataframe tbody tr th:only-of-type {\n",
       "        vertical-align: middle;\n",
       "    }\n",
       "\n",
       "    .dataframe tbody tr th {\n",
       "        vertical-align: top;\n",
       "    }\n",
       "\n",
       "    .dataframe thead th {\n",
       "        text-align: right;\n",
       "    }\n",
       "</style>\n",
       "<table border=\"1\" class=\"dataframe\">\n",
       "  <thead>\n",
       "    <tr style=\"text-align: right;\">\n",
       "      <th></th>\n",
       "      <th>gender</th>\n",
       "      <th>age</th>\n",
       "      <th>hypertension</th>\n",
       "      <th>heart_disease</th>\n",
       "      <th>smoking_history</th>\n",
       "      <th>bmi</th>\n",
       "      <th>HbA1c_level</th>\n",
       "      <th>blood_glucose_level</th>\n",
       "      <th>diabetes</th>\n",
       "      <th>bmi_cat</th>\n",
       "    </tr>\n",
       "  </thead>\n",
       "  <tbody>\n",
       "    <tr>\n",
       "      <th>0</th>\n",
       "      <td>Female</td>\n",
       "      <td>80.0</td>\n",
       "      <td>0</td>\n",
       "      <td>1</td>\n",
       "      <td>never</td>\n",
       "      <td>25.19</td>\n",
       "      <td>6.6</td>\n",
       "      <td>140</td>\n",
       "      <td>0</td>\n",
       "      <td>overweight</td>\n",
       "    </tr>\n",
       "    <tr>\n",
       "      <th>1</th>\n",
       "      <td>Female</td>\n",
       "      <td>54.0</td>\n",
       "      <td>0</td>\n",
       "      <td>0</td>\n",
       "      <td>No Info</td>\n",
       "      <td>27.32</td>\n",
       "      <td>6.6</td>\n",
       "      <td>80</td>\n",
       "      <td>0</td>\n",
       "      <td>overweight</td>\n",
       "    </tr>\n",
       "    <tr>\n",
       "      <th>2</th>\n",
       "      <td>Male</td>\n",
       "      <td>28.0</td>\n",
       "      <td>0</td>\n",
       "      <td>0</td>\n",
       "      <td>never</td>\n",
       "      <td>27.32</td>\n",
       "      <td>5.7</td>\n",
       "      <td>158</td>\n",
       "      <td>0</td>\n",
       "      <td>overweight</td>\n",
       "    </tr>\n",
       "    <tr>\n",
       "      <th>3</th>\n",
       "      <td>Female</td>\n",
       "      <td>36.0</td>\n",
       "      <td>0</td>\n",
       "      <td>0</td>\n",
       "      <td>current</td>\n",
       "      <td>23.45</td>\n",
       "      <td>5.0</td>\n",
       "      <td>155</td>\n",
       "      <td>0</td>\n",
       "      <td>normal</td>\n",
       "    </tr>\n",
       "    <tr>\n",
       "      <th>4</th>\n",
       "      <td>Male</td>\n",
       "      <td>76.0</td>\n",
       "      <td>1</td>\n",
       "      <td>1</td>\n",
       "      <td>current</td>\n",
       "      <td>20.14</td>\n",
       "      <td>4.8</td>\n",
       "      <td>155</td>\n",
       "      <td>0</td>\n",
       "      <td>normal</td>\n",
       "    </tr>\n",
       "    <tr>\n",
       "      <th>...</th>\n",
       "      <td>...</td>\n",
       "      <td>...</td>\n",
       "      <td>...</td>\n",
       "      <td>...</td>\n",
       "      <td>...</td>\n",
       "      <td>...</td>\n",
       "      <td>...</td>\n",
       "      <td>...</td>\n",
       "      <td>...</td>\n",
       "      <td>...</td>\n",
       "    </tr>\n",
       "    <tr>\n",
       "      <th>99994</th>\n",
       "      <td>Female</td>\n",
       "      <td>36.0</td>\n",
       "      <td>0</td>\n",
       "      <td>0</td>\n",
       "      <td>No Info</td>\n",
       "      <td>24.60</td>\n",
       "      <td>4.8</td>\n",
       "      <td>145</td>\n",
       "      <td>0</td>\n",
       "      <td>normal</td>\n",
       "    </tr>\n",
       "    <tr>\n",
       "      <th>99996</th>\n",
       "      <td>Female</td>\n",
       "      <td>2.0</td>\n",
       "      <td>0</td>\n",
       "      <td>0</td>\n",
       "      <td>No Info</td>\n",
       "      <td>17.37</td>\n",
       "      <td>6.5</td>\n",
       "      <td>100</td>\n",
       "      <td>0</td>\n",
       "      <td>normal</td>\n",
       "    </tr>\n",
       "    <tr>\n",
       "      <th>99997</th>\n",
       "      <td>Male</td>\n",
       "      <td>66.0</td>\n",
       "      <td>0</td>\n",
       "      <td>0</td>\n",
       "      <td>former</td>\n",
       "      <td>27.83</td>\n",
       "      <td>5.7</td>\n",
       "      <td>155</td>\n",
       "      <td>0</td>\n",
       "      <td>overweight</td>\n",
       "    </tr>\n",
       "    <tr>\n",
       "      <th>99998</th>\n",
       "      <td>Female</td>\n",
       "      <td>24.0</td>\n",
       "      <td>0</td>\n",
       "      <td>0</td>\n",
       "      <td>never</td>\n",
       "      <td>35.42</td>\n",
       "      <td>4.0</td>\n",
       "      <td>100</td>\n",
       "      <td>0</td>\n",
       "      <td>obesitas</td>\n",
       "    </tr>\n",
       "    <tr>\n",
       "      <th>99999</th>\n",
       "      <td>Female</td>\n",
       "      <td>57.0</td>\n",
       "      <td>0</td>\n",
       "      <td>0</td>\n",
       "      <td>current</td>\n",
       "      <td>22.43</td>\n",
       "      <td>6.6</td>\n",
       "      <td>90</td>\n",
       "      <td>0</td>\n",
       "      <td>normal</td>\n",
       "    </tr>\n",
       "  </tbody>\n",
       "</table>\n",
       "<p>96146 rows × 10 columns</p>\n",
       "</div>"
      ],
      "text/plain": [
       "       gender   age  hypertension  heart_disease smoking_history    bmi  \\\n",
       "0      Female  80.0             0              1           never  25.19   \n",
       "1      Female  54.0             0              0         No Info  27.32   \n",
       "2        Male  28.0             0              0           never  27.32   \n",
       "3      Female  36.0             0              0         current  23.45   \n",
       "4        Male  76.0             1              1         current  20.14   \n",
       "...       ...   ...           ...            ...             ...    ...   \n",
       "99994  Female  36.0             0              0         No Info  24.60   \n",
       "99996  Female   2.0             0              0         No Info  17.37   \n",
       "99997    Male  66.0             0              0          former  27.83   \n",
       "99998  Female  24.0             0              0           never  35.42   \n",
       "99999  Female  57.0             0              0         current  22.43   \n",
       "\n",
       "       HbA1c_level  blood_glucose_level  diabetes     bmi_cat  \n",
       "0              6.6                  140         0  overweight  \n",
       "1              6.6                   80         0  overweight  \n",
       "2              5.7                  158         0  overweight  \n",
       "3              5.0                  155         0      normal  \n",
       "4              4.8                  155         0      normal  \n",
       "...            ...                  ...       ...         ...  \n",
       "99994          4.8                  145         0      normal  \n",
       "99996          6.5                  100         0      normal  \n",
       "99997          5.7                  155         0  overweight  \n",
       "99998          4.0                  100         0    obesitas  \n",
       "99999          6.6                   90         0      normal  \n",
       "\n",
       "[96146 rows x 10 columns]"
      ]
     },
     "execution_count": 99,
     "metadata": {},
     "output_type": "execute_result"
    }
   ],
   "source": [
    "# Melihat kategori bmi\n",
    "\n",
    "def bmi_cat(bmi):\n",
    "    if bmi < 24.9:\n",
    "        return 'normal'\n",
    "    if 24.9 <= bmi <= 29.9:\n",
    "        return 'overweight'\n",
    "    elif bmi > 30:\n",
    "        return 'obesitas'\n",
    "    \n",
    "df_eda['bmi_cat'] = df_eda['bmi'].apply(bmi_cat)\n",
    "df_eda"
   ]
  },
  {
   "cell_type": "code",
   "execution_count": 58,
   "metadata": {},
   "outputs": [
    {
     "data": {
      "text/plain": [
       "diabetes\n",
       "0    87664\n",
       "1     8482\n",
       "Name: count, dtype: int64"
      ]
     },
     "execution_count": 58,
     "metadata": {},
     "output_type": "execute_result"
    }
   ],
   "source": [
    "df_eda['diabetes'].value_counts()"
   ]
  },
  {
   "cell_type": "markdown",
   "metadata": {},
   "source": [
    "Mencoba melihat status responden berdasarkan bmi, terlihat bahwa responden dengan status overweight adalah reponden terbanyk.  "
   ]
  },
  {
   "cell_type": "code",
   "execution_count": 102,
   "metadata": {},
   "outputs": [
    {
     "data": {
      "text/html": [
       "<div>\n",
       "<style scoped>\n",
       "    .dataframe tbody tr th:only-of-type {\n",
       "        vertical-align: middle;\n",
       "    }\n",
       "\n",
       "    .dataframe tbody tr th {\n",
       "        vertical-align: top;\n",
       "    }\n",
       "\n",
       "    .dataframe thead th {\n",
       "        text-align: right;\n",
       "    }\n",
       "</style>\n",
       "<table border=\"1\" class=\"dataframe\">\n",
       "  <thead>\n",
       "    <tr style=\"text-align: right;\">\n",
       "      <th></th>\n",
       "      <th>hypertension</th>\n",
       "      <th>heart_disease</th>\n",
       "      <th>bmi</th>\n",
       "      <th>HbA1c_level</th>\n",
       "      <th>blood_glucose_level</th>\n",
       "      <th>diabetes</th>\n",
       "    </tr>\n",
       "  </thead>\n",
       "  <tbody>\n",
       "    <tr>\n",
       "      <th>min</th>\n",
       "      <td>0.000000</td>\n",
       "      <td>0.000000</td>\n",
       "      <td>10.010000</td>\n",
       "      <td>3.500000</td>\n",
       "      <td>80.000000</td>\n",
       "      <td>0.000000</td>\n",
       "    </tr>\n",
       "    <tr>\n",
       "      <th>max</th>\n",
       "      <td>1.000000</td>\n",
       "      <td>1.000000</td>\n",
       "      <td>95.690000</td>\n",
       "      <td>9.000000</td>\n",
       "      <td>300.000000</td>\n",
       "      <td>1.000000</td>\n",
       "    </tr>\n",
       "    <tr>\n",
       "      <th>50%</th>\n",
       "      <td>0.000000</td>\n",
       "      <td>0.000000</td>\n",
       "      <td>27.320000</td>\n",
       "      <td>5.800000</td>\n",
       "      <td>140.000000</td>\n",
       "      <td>0.000000</td>\n",
       "    </tr>\n",
       "    <tr>\n",
       "      <th>mean</th>\n",
       "      <td>0.077601</td>\n",
       "      <td>0.040803</td>\n",
       "      <td>27.321461</td>\n",
       "      <td>5.532609</td>\n",
       "      <td>138.218231</td>\n",
       "      <td>0.088220</td>\n",
       "    </tr>\n",
       "    <tr>\n",
       "      <th>skew</th>\n",
       "      <td>3.157676</td>\n",
       "      <td>4.642359</td>\n",
       "      <td>1.023751</td>\n",
       "      <td>-0.054463</td>\n",
       "      <td>0.836489</td>\n",
       "      <td>2.903845</td>\n",
       "    </tr>\n",
       "  </tbody>\n",
       "</table>\n",
       "</div>"
      ],
      "text/plain": [
       "      hypertension  heart_disease        bmi  HbA1c_level  \\\n",
       "min       0.000000       0.000000  10.010000     3.500000   \n",
       "max       1.000000       1.000000  95.690000     9.000000   \n",
       "50%       0.000000       0.000000  27.320000     5.800000   \n",
       "mean      0.077601       0.040803  27.321461     5.532609   \n",
       "skew      3.157676       4.642359   1.023751    -0.054463   \n",
       "\n",
       "      blood_glucose_level  diabetes  \n",
       "min             80.000000  0.000000  \n",
       "max            300.000000  1.000000  \n",
       "50%            140.000000  0.000000  \n",
       "mean           138.218231  0.088220  \n",
       "skew             0.836489  2.903845  "
      ]
     },
     "execution_count": 102,
     "metadata": {},
     "output_type": "execute_result"
    }
   ],
   "source": [
    "numeric_desc = ['hypertension', 'heart_disease', 'bmi', 'HbA1c_level', 'blood_glucose_level', 'diabetes']\n",
    "central_tend = df_eda[numeric_desc].describe().loc[['min', 'max', '50%', 'mean']]\n",
    "\n",
    "# menambahkan skewness\n",
    "central_tend.loc['skew'] = df_eda[numeric_desc].skew()\n",
    "central_tend"
   ]
  },
  {
   "cell_type": "markdown",
   "metadata": {},
   "source": [
    "Terdapat skew.Ini berarti persebaran data tidak normal.nantinya akan berpengaruh dalam menentukan scaler"
   ]
  },
  {
   "cell_type": "code",
   "execution_count": 81,
   "metadata": {},
   "outputs": [],
   "source": [
    "kategorik = ['gender', 'age', 'smoking_history', 'diabetes']"
   ]
  },
  {
   "cell_type": "code",
   "execution_count": 85,
   "metadata": {},
   "outputs": [
    {
     "data": {
      "image/png": "[encoded data removed]",
      "text/plain": [
       "<Figure size 1200x700 with 2 Axes>"
      ]
     },
     "metadata": {},
     "output_type": "display_data"
    }
   ],
   "source": [
    "# Menghitung korelasi Kendall untuk setiap pasangan kolom\n",
    "for col1 in kategorik:\n",
    "    for col2 in kategorik:\n",
    "        if col1 != col2:\n",
    "            corr, _ = kendalltau(df[col1], df[col2])\n",
    "            correlation_matrix.loc[col1, col2] = corr\n",
    "        else:\n",
    "            correlation_matrix.loc[col1, col2] = 1.0  # Korelasi diri sendiri adalah 1\n",
    "\n",
    "# Mengubah tipe data menjadi float\n",
    "correlation_matrix = correlation_matrix.astype(float)\n",
    "\n",
    "# Membuat heatmap\n",
    "plt.figure(figsize=(12, 7))\n",
    "sns.heatmap(correlation_matrix, annot=True, cmap='coolwarm', vmin=-1, vmax=1, fmt='.3f')\n",
    "plt.title('Korelasi antara Variabel Kategorik Ordinal')\n",
    "plt.show()"
   ]
  },
  {
   "cell_type": "markdown",
   "metadata": {},
   "source": [
    "Seluruh kolom memiliki korelasi terhadap kolom diabetes keculai gender. kolom gender memiliki tingkat korelasi yang sangat kecil. "
   ]
  },
  {
   "cell_type": "markdown",
   "metadata": {},
   "source": [
    "# 5. Feature Engineering"
   ]
  },
  {
   "cell_type": "markdown",
   "metadata": {},
   "source": [
    "## 5.1. Feature Selection"
   ]
  },
  {
   "cell_type": "code",
   "execution_count": 4,
   "metadata": {},
   "outputs": [
    {
     "data": {
      "text/html": [
       "<div>\n",
       "<style scoped>\n",
       "    .dataframe tbody tr th:only-of-type {\n",
       "        vertical-align: middle;\n",
       "    }\n",
       "\n",
       "    .dataframe tbody tr th {\n",
       "        vertical-align: top;\n",
       "    }\n",
       "\n",
       "    .dataframe thead th {\n",
       "        text-align: right;\n",
       "    }\n",
       "</style>\n",
       "<table border=\"1\" class=\"dataframe\">\n",
       "  <thead>\n",
       "    <tr style=\"text-align: right;\">\n",
       "      <th></th>\n",
       "      <th>age</th>\n",
       "      <th>hypertension</th>\n",
       "      <th>heart_disease</th>\n",
       "      <th>smoking_history</th>\n",
       "      <th>bmi</th>\n",
       "      <th>HbA1c_level</th>\n",
       "      <th>blood_glucose_level</th>\n",
       "      <th>diabetes</th>\n",
       "    </tr>\n",
       "  </thead>\n",
       "  <tbody>\n",
       "    <tr>\n",
       "      <th>0</th>\n",
       "      <td>80.0</td>\n",
       "      <td>0</td>\n",
       "      <td>1</td>\n",
       "      <td>never</td>\n",
       "      <td>25.19</td>\n",
       "      <td>6.6</td>\n",
       "      <td>140</td>\n",
       "      <td>0</td>\n",
       "    </tr>\n",
       "    <tr>\n",
       "      <th>1</th>\n",
       "      <td>54.0</td>\n",
       "      <td>0</td>\n",
       "      <td>0</td>\n",
       "      <td>No Info</td>\n",
       "      <td>27.32</td>\n",
       "      <td>6.6</td>\n",
       "      <td>80</td>\n",
       "      <td>0</td>\n",
       "    </tr>\n",
       "    <tr>\n",
       "      <th>2</th>\n",
       "      <td>28.0</td>\n",
       "      <td>0</td>\n",
       "      <td>0</td>\n",
       "      <td>never</td>\n",
       "      <td>27.32</td>\n",
       "      <td>5.7</td>\n",
       "      <td>158</td>\n",
       "      <td>0</td>\n",
       "    </tr>\n",
       "    <tr>\n",
       "      <th>3</th>\n",
       "      <td>36.0</td>\n",
       "      <td>0</td>\n",
       "      <td>0</td>\n",
       "      <td>current</td>\n",
       "      <td>23.45</td>\n",
       "      <td>5.0</td>\n",
       "      <td>155</td>\n",
       "      <td>0</td>\n",
       "    </tr>\n",
       "    <tr>\n",
       "      <th>4</th>\n",
       "      <td>76.0</td>\n",
       "      <td>1</td>\n",
       "      <td>1</td>\n",
       "      <td>current</td>\n",
       "      <td>20.14</td>\n",
       "      <td>4.8</td>\n",
       "      <td>155</td>\n",
       "      <td>0</td>\n",
       "    </tr>\n",
       "    <tr>\n",
       "      <th>...</th>\n",
       "      <td>...</td>\n",
       "      <td>...</td>\n",
       "      <td>...</td>\n",
       "      <td>...</td>\n",
       "      <td>...</td>\n",
       "      <td>...</td>\n",
       "      <td>...</td>\n",
       "      <td>...</td>\n",
       "    </tr>\n",
       "    <tr>\n",
       "      <th>99994</th>\n",
       "      <td>36.0</td>\n",
       "      <td>0</td>\n",
       "      <td>0</td>\n",
       "      <td>No Info</td>\n",
       "      <td>24.60</td>\n",
       "      <td>4.8</td>\n",
       "      <td>145</td>\n",
       "      <td>0</td>\n",
       "    </tr>\n",
       "    <tr>\n",
       "      <th>99996</th>\n",
       "      <td>2.0</td>\n",
       "      <td>0</td>\n",
       "      <td>0</td>\n",
       "      <td>No Info</td>\n",
       "      <td>17.37</td>\n",
       "      <td>6.5</td>\n",
       "      <td>100</td>\n",
       "      <td>0</td>\n",
       "    </tr>\n",
       "    <tr>\n",
       "      <th>99997</th>\n",
       "      <td>66.0</td>\n",
       "      <td>0</td>\n",
       "      <td>0</td>\n",
       "      <td>former</td>\n",
       "      <td>27.83</td>\n",
       "      <td>5.7</td>\n",
       "      <td>155</td>\n",
       "      <td>0</td>\n",
       "    </tr>\n",
       "    <tr>\n",
       "      <th>99998</th>\n",
       "      <td>24.0</td>\n",
       "      <td>0</td>\n",
       "      <td>0</td>\n",
       "      <td>never</td>\n",
       "      <td>35.42</td>\n",
       "      <td>4.0</td>\n",
       "      <td>100</td>\n",
       "      <td>0</td>\n",
       "    </tr>\n",
       "    <tr>\n",
       "      <th>99999</th>\n",
       "      <td>57.0</td>\n",
       "      <td>0</td>\n",
       "      <td>0</td>\n",
       "      <td>current</td>\n",
       "      <td>22.43</td>\n",
       "      <td>6.6</td>\n",
       "      <td>90</td>\n",
       "      <td>0</td>\n",
       "    </tr>\n",
       "  </tbody>\n",
       "</table>\n",
       "<p>96146 rows × 8 columns</p>\n",
       "</div>"
      ],
      "text/plain": [
       "        age  hypertension  heart_disease smoking_history    bmi  HbA1c_level  \\\n",
       "0      80.0             0              1           never  25.19          6.6   \n",
       "1      54.0             0              0         No Info  27.32          6.6   \n",
       "2      28.0             0              0           never  27.32          5.7   \n",
       "3      36.0             0              0         current  23.45          5.0   \n",
       "4      76.0             1              1         current  20.14          4.8   \n",
       "...     ...           ...            ...             ...    ...          ...   \n",
       "99994  36.0             0              0         No Info  24.60          4.8   \n",
       "99996   2.0             0              0         No Info  17.37          6.5   \n",
       "99997  66.0             0              0          former  27.83          5.7   \n",
       "99998  24.0             0              0           never  35.42          4.0   \n",
       "99999  57.0             0              0         current  22.43          6.6   \n",
       "\n",
       "       blood_glucose_level  diabetes  \n",
       "0                      140         0  \n",
       "1                       80         0  \n",
       "2                      158         0  \n",
       "3                      155         0  \n",
       "4                      155         0  \n",
       "...                    ...       ...  \n",
       "99994                  145         0  \n",
       "99996                  100         0  \n",
       "99997                  155         0  \n",
       "99998                  100         0  \n",
       "99999                   90         0  \n",
       "\n",
       "[96146 rows x 8 columns]"
      ]
     },
     "execution_count": 4,
     "metadata": {},
     "output_type": "execute_result"
    }
   ],
   "source": [
    "df_select = df[['age', 'hypertension', 'heart_disease', 'smoking_history', 'bmi', 'HbA1c_level', 'blood_glucose_level', 'diabetes']]\n",
    "df_select"
   ]
  },
  {
   "cell_type": "markdown",
   "metadata": {},
   "source": [
    "Tidak memilih gender dalam feature selection karena berdasarkan nilai kendall-tau, gender menunjukan korelasi yang sangat kecil terhadap diabetes."
   ]
  },
  {
   "cell_type": "markdown",
   "metadata": {},
   "source": [
    "## 5.2. Handling Misiing Value"
   ]
  },
  {
   "cell_type": "code",
   "execution_count": 88,
   "metadata": {},
   "outputs": [
    {
     "data": {
      "text/plain": [
       "age                    0\n",
       "hypertension           0\n",
       "heart_disease          0\n",
       "smoking_history        0\n",
       "bmi                    0\n",
       "HbA1c_level            0\n",
       "blood_glucose_level    0\n",
       "diabetes               0\n",
       "dtype: int64"
      ]
     },
     "execution_count": 88,
     "metadata": {},
     "output_type": "execute_result"
    }
   ],
   "source": [
    "df_select.isnull().sum()"
   ]
  },
  {
   "cell_type": "markdown",
   "metadata": {},
   "source": [
    "Kami tidak melakukan handling missing value karena tidak ditmukan missing value"
   ]
  },
  {
   "cell_type": "markdown",
   "metadata": {},
   "source": [
    "## 5.3.Handling Outliers"
   ]
  },
  {
   "cell_type": "code",
   "execution_count": 89,
   "metadata": {},
   "outputs": [
    {
     "name": "stdout",
     "output_type": "stream",
     "text": [
      "Upper Boundary: 0.00\n",
      "Lower Boundary: 0.00\n",
      "Percentage of outliers of hypertension: 7.76%%\n",
      "\n",
      "\n",
      "Upper Boundary: 0.00\n",
      "Lower Boundary: 0.00\n",
      "Percentage of outliers of heart_disease: 4.08%%\n",
      "\n",
      "\n",
      "Upper Boundary: 39.55\n",
      "Lower Boundary: 13.71\n",
      "Percentage of outliers of bmi: 5.57%%\n",
      "\n",
      "\n",
      "Upper Boundary: 8.30\n",
      "Lower Boundary: 2.70\n",
      "Percentage of outliers of HbA1c_level: 1.36%%\n",
      "\n",
      "\n",
      "Upper Boundary: 247.50\n",
      "Lower Boundary: 11.50\n",
      "Percentage of outliers of blood_glucose_level: 2.11%%\n",
      "\n",
      "\n",
      "Upper Boundary: 0.00\n",
      "Lower Boundary: 0.00\n",
      "Percentage of outliers of diabetes: 8.82%%\n",
      "\n",
      "\n"
     ]
    }
   ],
   "source": [
    "for i in numeric_desc:\n",
    "    q1 = df_select[i].quantile(0.25)\n",
    "    q3 = df_select[i].quantile(0.75)\n",
    "    iqr = q3-q1\n",
    "\n",
    "    up_bound = q3 + 1.5*iqr\n",
    "    low_bound = q1 - 1.5*iqr\n",
    "    print(f'Upper Boundary: {up_bound:.2f}' )\n",
    "    print(f'Lower Boundary: {low_bound:.2f}')\n",
    "\n",
    "    outlier = df_select[i][(df_select[i]<low_bound) | (df_select[i]>up_bound)]\n",
    "    no_outlier = df_select[i][(df_select[i]>=low_bound) & (df_select[i]<=up_bound)]\n",
    "\n",
    "    print(f'Percentage of outliers of {i}: {len(outlier)*100/len(df_select[i]):.2f}%%')\n",
    "    print('\\n')"
   ]
  },
  {
   "cell_type": "markdown",
   "metadata": {},
   "source": [
    "Outliers wajar terjadi karena ini adalah data kondisi tubuh. Jika dilakukan handling outliers, data akan menjadi tidak real."
   ]
  },
  {
   "cell_type": "markdown",
   "metadata": {},
   "source": [
    "## 5.4 Split X dan y"
   ]
  },
  {
   "cell_type": "code",
   "execution_count": 5,
   "metadata": {},
   "outputs": [
    {
     "name": "stdout",
     "output_type": "stream",
     "text": [
      "fitur: (96146, 7)\n",
      "target: (96146,)\n"
     ]
    }
   ],
   "source": [
    "X=df_select.drop('diabetes', axis=1)\n",
    "y=df_select['diabetes']\n",
    "\n",
    "print('fitur:', X.shape)\n",
    "print('target:', y.shape)"
   ]
  },
  {
   "cell_type": "markdown",
   "metadata": {},
   "source": [
    "## 5.5. Split Train and Test"
   ]
  },
  {
   "cell_type": "code",
   "execution_count": 6,
   "metadata": {},
   "outputs": [
    {
     "data": {
      "text/html": [
       "<div>\n",
       "<style scoped>\n",
       "    .dataframe tbody tr th:only-of-type {\n",
       "        vertical-align: middle;\n",
       "    }\n",
       "\n",
       "    .dataframe tbody tr th {\n",
       "        vertical-align: top;\n",
       "    }\n",
       "\n",
       "    .dataframe thead th {\n",
       "        text-align: right;\n",
       "    }\n",
       "</style>\n",
       "<table border=\"1\" class=\"dataframe\">\n",
       "  <thead>\n",
       "    <tr style=\"text-align: right;\">\n",
       "      <th></th>\n",
       "      <th>age</th>\n",
       "      <th>hypertension</th>\n",
       "      <th>heart_disease</th>\n",
       "      <th>smoking_history</th>\n",
       "      <th>bmi</th>\n",
       "      <th>HbA1c_level</th>\n",
       "      <th>blood_glucose_level</th>\n",
       "    </tr>\n",
       "  </thead>\n",
       "  <tbody>\n",
       "    <tr>\n",
       "      <th>37103</th>\n",
       "      <td>39.0</td>\n",
       "      <td>1</td>\n",
       "      <td>0</td>\n",
       "      <td>never</td>\n",
       "      <td>27.91</td>\n",
       "      <td>5.8</td>\n",
       "      <td>300</td>\n",
       "    </tr>\n",
       "    <tr>\n",
       "      <th>32052</th>\n",
       "      <td>24.0</td>\n",
       "      <td>0</td>\n",
       "      <td>0</td>\n",
       "      <td>No Info</td>\n",
       "      <td>45.96</td>\n",
       "      <td>3.5</td>\n",
       "      <td>158</td>\n",
       "    </tr>\n",
       "    <tr>\n",
       "      <th>44972</th>\n",
       "      <td>80.0</td>\n",
       "      <td>0</td>\n",
       "      <td>0</td>\n",
       "      <td>not current</td>\n",
       "      <td>27.32</td>\n",
       "      <td>6.5</td>\n",
       "      <td>90</td>\n",
       "    </tr>\n",
       "    <tr>\n",
       "      <th>46960</th>\n",
       "      <td>6.0</td>\n",
       "      <td>0</td>\n",
       "      <td>0</td>\n",
       "      <td>No Info</td>\n",
       "      <td>14.84</td>\n",
       "      <td>6.6</td>\n",
       "      <td>145</td>\n",
       "    </tr>\n",
       "    <tr>\n",
       "      <th>90786</th>\n",
       "      <td>54.0</td>\n",
       "      <td>0</td>\n",
       "      <td>0</td>\n",
       "      <td>never</td>\n",
       "      <td>23.77</td>\n",
       "      <td>4.5</td>\n",
       "      <td>100</td>\n",
       "    </tr>\n",
       "    <tr>\n",
       "      <th>...</th>\n",
       "      <td>...</td>\n",
       "      <td>...</td>\n",
       "      <td>...</td>\n",
       "      <td>...</td>\n",
       "      <td>...</td>\n",
       "      <td>...</td>\n",
       "      <td>...</td>\n",
       "    </tr>\n",
       "    <tr>\n",
       "      <th>58134</th>\n",
       "      <td>61.0</td>\n",
       "      <td>1</td>\n",
       "      <td>0</td>\n",
       "      <td>never</td>\n",
       "      <td>37.48</td>\n",
       "      <td>6.5</td>\n",
       "      <td>100</td>\n",
       "    </tr>\n",
       "    <tr>\n",
       "      <th>96806</th>\n",
       "      <td>27.0</td>\n",
       "      <td>0</td>\n",
       "      <td>0</td>\n",
       "      <td>No Info</td>\n",
       "      <td>22.98</td>\n",
       "      <td>6.5</td>\n",
       "      <td>155</td>\n",
       "    </tr>\n",
       "    <tr>\n",
       "      <th>82750</th>\n",
       "      <td>59.0</td>\n",
       "      <td>0</td>\n",
       "      <td>0</td>\n",
       "      <td>ever</td>\n",
       "      <td>22.38</td>\n",
       "      <td>4.5</td>\n",
       "      <td>159</td>\n",
       "    </tr>\n",
       "    <tr>\n",
       "      <th>31141</th>\n",
       "      <td>64.0</td>\n",
       "      <td>1</td>\n",
       "      <td>0</td>\n",
       "      <td>never</td>\n",
       "      <td>29.27</td>\n",
       "      <td>6.2</td>\n",
       "      <td>159</td>\n",
       "    </tr>\n",
       "    <tr>\n",
       "      <th>11652</th>\n",
       "      <td>72.0</td>\n",
       "      <td>0</td>\n",
       "      <td>0</td>\n",
       "      <td>not current</td>\n",
       "      <td>27.32</td>\n",
       "      <td>3.5</td>\n",
       "      <td>158</td>\n",
       "    </tr>\n",
       "  </tbody>\n",
       "</table>\n",
       "<p>76916 rows × 7 columns</p>\n",
       "</div>"
      ],
      "text/plain": [
       "        age  hypertension  heart_disease smoking_history    bmi  HbA1c_level  \\\n",
       "37103  39.0             1              0           never  27.91          5.8   \n",
       "32052  24.0             0              0         No Info  45.96          3.5   \n",
       "44972  80.0             0              0     not current  27.32          6.5   \n",
       "46960   6.0             0              0         No Info  14.84          6.6   \n",
       "90786  54.0             0              0           never  23.77          4.5   \n",
       "...     ...           ...            ...             ...    ...          ...   \n",
       "58134  61.0             1              0           never  37.48          6.5   \n",
       "96806  27.0             0              0         No Info  22.98          6.5   \n",
       "82750  59.0             0              0            ever  22.38          4.5   \n",
       "31141  64.0             1              0           never  29.27          6.2   \n",
       "11652  72.0             0              0     not current  27.32          3.5   \n",
       "\n",
       "       blood_glucose_level  \n",
       "37103                  300  \n",
       "32052                  158  \n",
       "44972                   90  \n",
       "46960                  145  \n",
       "90786                  100  \n",
       "...                    ...  \n",
       "58134                  100  \n",
       "96806                  155  \n",
       "82750                  159  \n",
       "31141                  159  \n",
       "11652                  158  \n",
       "\n",
       "[76916 rows x 7 columns]"
      ]
     },
     "execution_count": 6,
     "metadata": {},
     "output_type": "execute_result"
    }
   ],
   "source": [
    "X_train, X_test, y_train, y_test = train_test_split(X, y, test_size=0.2, random_state=40)\n",
    "X_train"
   ]
  },
  {
   "cell_type": "markdown",
   "metadata": {},
   "source": [
    "## 5.6. Split Numerikal dan Kategorikal"
   ]
  },
  {
   "cell_type": "code",
   "execution_count": 7,
   "metadata": {},
   "outputs": [],
   "source": [
    "num_col = ['age', 'bmi', 'HbA1c_level', 'blood_glucose_level']\n",
    "cat_col = ['hypertension', 'heart_disease', 'smoking_history']"
   ]
  },
  {
   "cell_type": "code",
   "execution_count": 8,
   "metadata": {},
   "outputs": [],
   "source": [
    "#Making column transformer for preprocessing\n",
    "transformer = ColumnTransformer([\n",
    "('scaler', MinMaxScaler(), num_col),\n",
    "('encoding', OneHotEncoder(), cat_col)\n",
    "])"
   ]
  },
  {
   "cell_type": "code",
   "execution_count": null,
   "metadata": {},
   "outputs": [],
   "source": []
  },
  {
   "cell_type": "markdown",
   "metadata": {},
   "source": [
    "# 6. Model Definition\n"
   ]
  },
  {
   "cell_type": "markdown",
   "metadata": {},
   "source": [
    "Model =\n",
    "1. KNN\n",
    "2. SVM\n",
    "3. Decision Tree\n",
    "4. Random Forest\n"
   ]
  },
  {
   "cell_type": "code",
   "execution_count": 9,
   "metadata": {},
   "outputs": [],
   "source": [
    "#Making pipeline for KNN\n",
    "pipe_knn = Pipeline([\n",
    "('transformer', transformer),\n",
    "('classifier', KNeighborsClassifier())\n",
    "])\n",
    "\n",
    "#Making pipeline for LogReg\n",
    "pipe_svm = Pipeline([\n",
    "('transformer', transformer),\n",
    "('classifier', SVC())\n",
    "])\n",
    "\n",
    "#Making pipeline for Decision Tree\n",
    "pipe_dt = Pipeline([\n",
    "('transformer', transformer),\n",
    "('classifier', DecisionTreeClassifier())\n",
    "])\n",
    "\n",
    "#Making pipeline for Random Forest\n",
    "pipe_rf = Pipeline([\n",
    "('transformer', transformer),\n",
    "('classifier', RandomForestClassifier())\n",
    "])\n",
    "\n",
    "#Making pipeline for XGBoost\n",
    "pipe_xgb = Pipeline([\n",
    "('transformer', transformer),\n",
    "('classifier', XGBClassifier())\n",
    "])"
   ]
  },
  {
   "cell_type": "markdown",
   "metadata": {},
   "source": [
    "# 7. Model Training "
   ]
  },
  {
   "cell_type": "markdown",
   "metadata": {},
   "source": [
    "## 7.1. KNN"
   ]
  },
  {
   "cell_type": "code",
   "execution_count": 10,
   "metadata": {},
   "outputs": [
    {
     "name": "stdout",
     "output_type": "stream",
     "text": [
      "Training Score:  0.9698\n",
      "Testing Score:  0.9613\n"
     ]
    }
   ],
   "source": [
    "pipe_knn.fit(X_train, y_train)\n",
    "print('Training Score: ',round(pipe_knn.score(X_train, y_train),4))\n",
    "print('Testing Score: ', round(pipe_knn.score(X_test, y_test),4))"
   ]
  },
  {
   "cell_type": "markdown",
   "metadata": {},
   "source": [
    "## 7.2. SVM"
   ]
  },
  {
   "cell_type": "code",
   "execution_count": 11,
   "metadata": {},
   "outputs": [
    {
     "name": "stdout",
     "output_type": "stream",
     "text": [
      "Training Score:  0.9607\n",
      "Testing Score:  0.9594\n"
     ]
    }
   ],
   "source": [
    "pipe_svm.fit(X_train, y_train)\n",
    "print('Training Score: ',round(pipe_svm.score(X_train, y_train),4))\n",
    "print('Testing Score: ', round(pipe_svm.score(X_test, y_test),4))"
   ]
  },
  {
   "cell_type": "markdown",
   "metadata": {},
   "source": [
    "## 7.3. Decision Tree"
   ]
  },
  {
   "cell_type": "code",
   "execution_count": 12,
   "metadata": {},
   "outputs": [
    {
     "name": "stdout",
     "output_type": "stream",
     "text": [
      "Training Score:  0.9986\n",
      "Testing Score:  0.9495\n"
     ]
    }
   ],
   "source": [
    "pipe_dt.fit(X_train, y_train)\n",
    "print('Training Score: ',round(pipe_dt.score(X_train, y_train),4))\n",
    "print('Testing Score: ', round(pipe_dt.score(X_test, y_test),4))"
   ]
  },
  {
   "cell_type": "markdown",
   "metadata": {},
   "source": [
    "## 7.4. Random Forest"
   ]
  },
  {
   "cell_type": "code",
   "execution_count": 13,
   "metadata": {},
   "outputs": [
    {
     "name": "stdout",
     "output_type": "stream",
     "text": [
      "Training Score:  0.9986\n",
      "Testing Score:  0.9679\n"
     ]
    }
   ],
   "source": [
    "pipe_rf.fit(X_train, y_train)\n",
    "print('Training Score: ',round(pipe_rf.score(X_train, y_train),4))\n",
    "print('Testing Score: ', round(pipe_rf.score(X_test, y_test),4))"
   ]
  },
  {
   "cell_type": "markdown",
   "metadata": {},
   "source": [
    "## 7.5 Boosting"
   ]
  },
  {
   "cell_type": "code",
   "execution_count": 14,
   "metadata": {},
   "outputs": [
    {
     "name": "stdout",
     "output_type": "stream",
     "text": [
      "Training Score:  0.9748\n",
      "Testing Score:  0.97\n"
     ]
    }
   ],
   "source": [
    "pipe_xgb.fit(X_train, y_train)\n",
    "print('Training Score: ',round(pipe_xgb.score(X_train, y_train),4))\n",
    "print('Testing Score: ', round(pipe_xgb.score(X_test, y_test),4))"
   ]
  },
  {
   "cell_type": "markdown",
   "metadata": {},
   "source": [
    "# 8. Model Evaluation "
   ]
  },
  {
   "cell_type": "markdown",
   "metadata": {},
   "source": [
    "## 8.1. KNN"
   ]
  },
  {
   "cell_type": "code",
   "execution_count": 15,
   "metadata": {},
   "outputs": [
    {
     "data": {
      "text/plain": [
       "array([0, 0, 0, ..., 0, 0, 0])"
      ]
     },
     "execution_count": 15,
     "metadata": {},
     "output_type": "execute_result"
    }
   ],
   "source": [
    "y_knn_pred = pipe_knn.predict(X_test)\n",
    "y_knn_pred"
   ]
  },
  {
   "cell_type": "code",
   "execution_count": 16,
   "metadata": {},
   "outputs": [
    {
     "name": "stdout",
     "output_type": "stream",
     "text": [
      "              precision    recall  f1-score   support\n",
      "\n",
      "    diabetes       0.97      0.99      0.98     17513\n",
      " no diabetes       0.90      0.64      0.75      1717\n",
      "\n",
      "    accuracy                           0.96     19230\n",
      "   macro avg       0.93      0.82      0.86     19230\n",
      "weighted avg       0.96      0.96      0.96     19230\n",
      "\n"
     ]
    }
   ],
   "source": [
    "target = ['diabetes', 'no diabetes']\n",
    "print(classification_report(y_test, y_knn_pred, target_names = target))"
   ]
  },
  {
   "cell_type": "code",
   "execution_count": 17,
   "metadata": {},
   "outputs": [
    {
     "name": "stdout",
     "output_type": "stream",
     "text": [
      "Recall - All - Cross Validation  :  [0.62793792 0.61330377 0.62261641]\n",
      "Recall - Mean - Cross Validation :  0.6212860310421285\n",
      "Recall - Std - Cross Validation  :  0.0060479741450048165\n",
      "Recall - Range of Test-Set       :  0.6152380568971237 - 0.6273340051871333\n"
     ]
    }
   ],
   "source": [
    "# Cross Validation\n",
    "knn_train_cross_val = cross_val_score(pipe_knn,\n",
    "                                     X_train,\n",
    "                                     y_train,\n",
    "                                     cv=3,\n",
    "                                     scoring=\"recall\")\n",
    "\n",
    "print('Recall - All - Cross Validation  : ', knn_train_cross_val)\n",
    "print('Recall - Mean - Cross Validation : ', knn_train_cross_val.mean())\n",
    "print('Recall - Std - Cross Validation  : ', knn_train_cross_val.std())\n",
    "print('Recall - Range of Test-Set       : ', (knn_train_cross_val.mean()-knn_train_cross_val.std()) , '-', (knn_train_cross_val.mean()+knn_train_cross_val.std()))"
   ]
  },
  {
   "cell_type": "markdown",
   "metadata": {},
   "source": [
    "## 8.2. SVM"
   ]
  },
  {
   "cell_type": "code",
   "execution_count": 18,
   "metadata": {},
   "outputs": [
    {
     "data": {
      "text/plain": [
       "array([0, 0, 0, ..., 0, 0, 0])"
      ]
     },
     "execution_count": 18,
     "metadata": {},
     "output_type": "execute_result"
    }
   ],
   "source": [
    "y_svm_pred = pipe_svm.predict(X_test)\n",
    "y_svm_pred"
   ]
  },
  {
   "cell_type": "code",
   "execution_count": 19,
   "metadata": {},
   "outputs": [
    {
     "name": "stdout",
     "output_type": "stream",
     "text": [
      "              precision    recall  f1-score   support\n",
      "\n",
      "    diabetes       0.96      1.00      0.98     17513\n",
      " no diabetes       0.97      0.57      0.71      1717\n",
      "\n",
      "    accuracy                           0.96     19230\n",
      "   macro avg       0.96      0.78      0.85     19230\n",
      "weighted avg       0.96      0.96      0.95     19230\n",
      "\n"
     ]
    }
   ],
   "source": [
    "target = ['diabetes', 'no diabetes']\n",
    "print(classification_report(y_test, y_svm_pred, target_names = target))"
   ]
  },
  {
   "cell_type": "code",
   "execution_count": 20,
   "metadata": {},
   "outputs": [
    {
     "name": "stdout",
     "output_type": "stream",
     "text": [
      "Recall - All - Cross Validation  :  [0.57738359 0.54900222 0.56762749]\n",
      "Recall - Mean - Cross Validation :  0.5646711012564671\n",
      "Recall - Std - Cross Validation  :  0.011773722247887607\n",
      "Recall - Range of Test-Set       :  0.5528973790085795 - 0.5764448235043548\n"
     ]
    }
   ],
   "source": [
    "svm_train_cross_val = cross_val_score(pipe_svm,\n",
    "                                     X_train,\n",
    "                                     y_train,\n",
    "                                     cv=3,\n",
    "                                     scoring=\"recall\")\n",
    "\n",
    "print('Recall - All - Cross Validation  : ', svm_train_cross_val)\n",
    "print('Recall - Mean - Cross Validation : ', svm_train_cross_val.mean())\n",
    "print('Recall - Std - Cross Validation  : ', svm_train_cross_val.std())\n",
    "print('Recall - Range of Test-Set       : ', (svm_train_cross_val.mean()-svm_train_cross_val.std()) , '-', (svm_train_cross_val.mean()+svm_train_cross_val.std()))"
   ]
  },
  {
   "cell_type": "markdown",
   "metadata": {},
   "source": [
    "## 8.3. Decision Tree"
   ]
  },
  {
   "cell_type": "code",
   "execution_count": 21,
   "metadata": {},
   "outputs": [
    {
     "data": {
      "text/plain": [
       "array([0, 0, 0, ..., 0, 0, 0])"
      ]
     },
     "execution_count": 21,
     "metadata": {},
     "output_type": "execute_result"
    }
   ],
   "source": [
    "y_dt_pred = pipe_dt.predict(X_test)\n",
    "y_dt_pred"
   ]
  },
  {
   "cell_type": "code",
   "execution_count": 22,
   "metadata": {},
   "outputs": [
    {
     "name": "stdout",
     "output_type": "stream",
     "text": [
      "              precision    recall  f1-score   support\n",
      "\n",
      "    diabetes       0.97      0.97      0.97     17513\n",
      " no diabetes       0.71      0.74      0.72      1717\n",
      "\n",
      "    accuracy                           0.95     19230\n",
      "   macro avg       0.84      0.86      0.85     19230\n",
      "weighted avg       0.95      0.95      0.95     19230\n",
      "\n"
     ]
    }
   ],
   "source": [
    "target = ['diabetes', 'no diabetes']\n",
    "print(classification_report(y_test, y_dt_pred, target_names = target))"
   ]
  },
  {
   "cell_type": "code",
   "execution_count": 23,
   "metadata": {},
   "outputs": [
    {
     "name": "stdout",
     "output_type": "stream",
     "text": [
      "Recall - All - Cross Validation  :  [0.75033259 0.7210643  0.75121951]\n",
      "Recall - Mean - Cross Validation :  0.7408721359940872\n",
      "Recall - Std - Cross Validation  :  0.014010933464683269\n",
      "Recall - Range of Test-Set       :  0.7268612025294039 - 0.7526458582419748\n"
     ]
    }
   ],
   "source": [
    "dt_train_cross_val = cross_val_score(pipe_dt,\n",
    "                                     X_train,\n",
    "                                     y_train,\n",
    "                                     cv=3,\n",
    "                                     scoring=\"recall\")\n",
    "\n",
    "print('Recall - All - Cross Validation  : ', dt_train_cross_val)\n",
    "print('Recall - Mean - Cross Validation : ', dt_train_cross_val.mean())\n",
    "print('Recall - Std - Cross Validation  : ', dt_train_cross_val.std())\n",
    "print('Recall - Range of Test-Set       : ', (dt_train_cross_val.mean()-dt_train_cross_val.std()) , '-', (dt_train_cross_val.mean()+svm_train_cross_val.std()))"
   ]
  },
  {
   "cell_type": "markdown",
   "metadata": {},
   "source": [
    "## 8.4. Random Forest "
   ]
  },
  {
   "cell_type": "code",
   "execution_count": 24,
   "metadata": {},
   "outputs": [
    {
     "data": {
      "text/plain": [
       "array([0, 0, 0, ..., 0, 0, 0])"
      ]
     },
     "execution_count": 24,
     "metadata": {},
     "output_type": "execute_result"
    }
   ],
   "source": [
    "y_rf_pred = pipe_rf.predict(X_test)\n",
    "y_rf_pred"
   ]
  },
  {
   "cell_type": "code",
   "execution_count": 25,
   "metadata": {},
   "outputs": [
    {
     "name": "stdout",
     "output_type": "stream",
     "text": [
      "              precision    recall  f1-score   support\n",
      "\n",
      "    diabetes       0.97      1.00      0.98     17513\n",
      " no diabetes       0.94      0.68      0.79      1717\n",
      "\n",
      "    accuracy                           0.97     19230\n",
      "   macro avg       0.95      0.84      0.89     19230\n",
      "weighted avg       0.97      0.97      0.97     19230\n",
      "\n"
     ]
    }
   ],
   "source": [
    "target = ['diabetes', 'no diabetes']\n",
    "print(classification_report(y_test, y_rf_pred, target_names = target))"
   ]
  },
  {
   "cell_type": "code",
   "execution_count": 26,
   "metadata": {},
   "outputs": [
    {
     "name": "stdout",
     "output_type": "stream",
     "text": [
      "Recall - All - Cross Validation  :  [0.69490022 0.66696231 0.6940133 ]\n",
      "Recall - Mean - Cross Validation :  0.6852919438285291\n",
      "Recall - Std - Cross Validation  :  0.012966067854893345\n",
      "Recall - Range of Test-Set       :  0.6723258759736358 - 0.6982580116834224\n"
     ]
    }
   ],
   "source": [
    "#Cross Validation\n",
    "\n",
    "rf_train_cross_val = cross_val_score(pipe_rf,\n",
    "                                     X_train,\n",
    "                                     y_train,\n",
    "                                     cv=3,\n",
    "                                     scoring=\"recall\")\n",
    "\n",
    "print('Recall - All - Cross Validation  : ', rf_train_cross_val)\n",
    "print('Recall - Mean - Cross Validation : ', rf_train_cross_val.mean())\n",
    "print('Recall - Std - Cross Validation  : ', rf_train_cross_val.std())\n",
    "print('Recall - Range of Test-Set       : ', (rf_train_cross_val.mean()-rf_train_cross_val.std()) , '-', (rf_train_cross_val.mean()+rf_train_cross_val.std()))"
   ]
  },
  {
   "cell_type": "markdown",
   "metadata": {},
   "source": [
    "## 8.5. Boosting"
   ]
  },
  {
   "cell_type": "code",
   "execution_count": 27,
   "metadata": {},
   "outputs": [
    {
     "data": {
      "text/plain": [
       "array([0, 0, 0, ..., 0, 0, 0])"
      ]
     },
     "execution_count": 27,
     "metadata": {},
     "output_type": "execute_result"
    }
   ],
   "source": [
    "y_xgb_pred = pipe_xgb.predict(X_test)\n",
    "y_xgb_pred"
   ]
  },
  {
   "cell_type": "code",
   "execution_count": 28,
   "metadata": {},
   "outputs": [
    {
     "name": "stdout",
     "output_type": "stream",
     "text": [
      "              precision    recall  f1-score   support\n",
      "\n",
      "    diabetes       0.97      1.00      0.98     17513\n",
      " no diabetes       0.96      0.69      0.81      1717\n",
      "\n",
      "    accuracy                           0.97     19230\n",
      "   macro avg       0.97      0.85      0.89     19230\n",
      "weighted avg       0.97      0.97      0.97     19230\n",
      "\n"
     ]
    }
   ],
   "source": [
    "target = ['diabetes', 'no diabetes']\n",
    "print(classification_report(y_test, y_xgb_pred, target_names = target))"
   ]
  },
  {
   "cell_type": "code",
   "execution_count": 29,
   "metadata": {},
   "outputs": [
    {
     "name": "stdout",
     "output_type": "stream",
     "text": [
      "Recall - All - Cross Validation  :  [0.69933481 0.67050998 0.69223947]\n",
      "Recall - Mean - Cross Validation :  0.6873614190687362\n",
      "Recall - Std - Cross Validation  :  0.012262796837815892\n",
      "Recall - Range of Test-Set       :  0.6750986222309203 - 0.699624215906552\n"
     ]
    }
   ],
   "source": [
    "#Cross Validation\n",
    "\n",
    "xgb_train_cross_val = cross_val_score(pipe_rf,\n",
    "                                     X_train,\n",
    "                                     y_train,\n",
    "                                     cv=3,\n",
    "                                     scoring=\"recall\")\n",
    "\n",
    "print('Recall - All - Cross Validation  : ', xgb_train_cross_val)\n",
    "print('Recall - Mean - Cross Validation : ', xgb_train_cross_val.mean())\n",
    "print('Recall - Std - Cross Validation  : ', xgb_train_cross_val.std())\n",
    "print('Recall - Range of Test-Set       : ', (xgb_train_cross_val.mean()-xgb_train_cross_val.std()) , '-', (xgb_train_cross_val.mean()+xgb_train_cross_val.std()))"
   ]
  },
  {
   "cell_type": "markdown",
   "metadata": {},
   "source": [
    "## 8.6. COMPARISON"
   ]
  },
  {
   "cell_type": "code",
   "execution_count": 30,
   "metadata": {},
   "outputs": [],
   "source": [
    "models = {\n",
    "    'KNN' : pipe_knn,\n",
    "    'SVM' : pipe_svm,\n",
    "    'Decision Tree' : pipe_dt,\n",
    "    'Random Forest' : pipe_rf,\n",
    "    'XGBoost' : pipe_xgb\n",
    "}\n",
    "\n",
    "metrics = {\n",
    "    'Recall' : recall_score\n",
    "}\n",
    "\n",
    "df_model = pd.DataFrame(columns = models.keys(), index=['Recall'])\n",
    "\n",
    "for metric in metrics.keys():\n",
    "  for model in models.keys():\n",
    "    df_model.loc[metric, model] = metrics[metric](y_test, models[model].predict(X_test))"
   ]
  },
  {
   "cell_type": "code",
   "execution_count": 31,
   "metadata": {},
   "outputs": [
    {
     "data": {
      "text/html": [
       "<div>\n",
       "<style scoped>\n",
       "    .dataframe tbody tr th:only-of-type {\n",
       "        vertical-align: middle;\n",
       "    }\n",
       "\n",
       "    .dataframe tbody tr th {\n",
       "        vertical-align: top;\n",
       "    }\n",
       "\n",
       "    .dataframe thead th {\n",
       "        text-align: right;\n",
       "    }\n",
       "</style>\n",
       "<table border=\"1\" class=\"dataframe\">\n",
       "  <thead>\n",
       "    <tr style=\"text-align: right;\">\n",
       "      <th></th>\n",
       "      <th>KNN</th>\n",
       "      <th>SVM</th>\n",
       "      <th>Decision Tree</th>\n",
       "      <th>Random Forest</th>\n",
       "      <th>XGBoost</th>\n",
       "    </tr>\n",
       "  </thead>\n",
       "  <tbody>\n",
       "    <tr>\n",
       "      <th>Recall</th>\n",
       "      <td>0.637158</td>\n",
       "      <td>0.565521</td>\n",
       "      <td>0.744321</td>\n",
       "      <td>0.684333</td>\n",
       "      <td>0.693069</td>\n",
       "    </tr>\n",
       "  </tbody>\n",
       "</table>\n",
       "</div>"
      ],
      "text/plain": [
       "             KNN       SVM Decision Tree Random Forest   XGBoost\n",
       "Recall  0.637158  0.565521      0.744321      0.684333  0.693069"
      ]
     },
     "execution_count": 31,
     "metadata": {},
     "output_type": "execute_result"
    }
   ],
   "source": [
    "df_model"
   ]
  },
  {
   "cell_type": "code",
   "execution_count": 32,
   "metadata": {},
   "outputs": [],
   "source": [
    "models = {\n",
    "    'KNN' : pipe_knn,\n",
    "    'SVM' : pipe_svm,\n",
    "    'Decision Tree' : pipe_dt,\n",
    "    'Random Forest' : pipe_rf,\n",
    "    'XGBoost' : pipe_xgb\n",
    "}\n",
    "\n",
    "metrics = {\n",
    "    'Mean' : cross_val_score(models[model], X_train, y_train, cv = 3, scoring='f1').mean(),\n",
    "    'Std' : cross_val_score(models[model], X_train, y_train, cv = 3, scoring='f1').std()\n",
    "}\n",
    "\n",
    "df_cross_val = pd.DataFrame(columns = models.keys(), index = ['Mean', 'Std'])\n",
    "\n",
    "for i in metrics.keys():\n",
    "  for j in models.keys():\n",
    "    df_cross_val.loc[i, j] = metrics[i]"
   ]
  },
  {
   "cell_type": "code",
   "execution_count": 33,
   "metadata": {},
   "outputs": [
    {
     "data": {
      "text/html": [
       "<div>\n",
       "<style scoped>\n",
       "    .dataframe tbody tr th:only-of-type {\n",
       "        vertical-align: middle;\n",
       "    }\n",
       "\n",
       "    .dataframe tbody tr th {\n",
       "        vertical-align: top;\n",
       "    }\n",
       "\n",
       "    .dataframe thead th {\n",
       "        text-align: right;\n",
       "    }\n",
       "</style>\n",
       "<table border=\"1\" class=\"dataframe\">\n",
       "  <thead>\n",
       "    <tr style=\"text-align: right;\">\n",
       "      <th></th>\n",
       "      <th>KNN</th>\n",
       "      <th>SVM</th>\n",
       "      <th>Decision Tree</th>\n",
       "      <th>Random Forest</th>\n",
       "      <th>XGBoost</th>\n",
       "    </tr>\n",
       "  </thead>\n",
       "  <tbody>\n",
       "    <tr>\n",
       "      <th>Mean</th>\n",
       "      <td>0.799437</td>\n",
       "      <td>0.799437</td>\n",
       "      <td>0.799437</td>\n",
       "      <td>0.799437</td>\n",
       "      <td>0.799437</td>\n",
       "    </tr>\n",
       "    <tr>\n",
       "      <th>Std</th>\n",
       "      <td>0.00912</td>\n",
       "      <td>0.00912</td>\n",
       "      <td>0.00912</td>\n",
       "      <td>0.00912</td>\n",
       "      <td>0.00912</td>\n",
       "    </tr>\n",
       "  </tbody>\n",
       "</table>\n",
       "</div>"
      ],
      "text/plain": [
       "           KNN       SVM Decision Tree Random Forest   XGBoost\n",
       "Mean  0.799437  0.799437      0.799437      0.799437  0.799437\n",
       "Std    0.00912   0.00912       0.00912       0.00912   0.00912"
      ]
     },
     "execution_count": 33,
     "metadata": {},
     "output_type": "execute_result"
    }
   ],
   "source": [
    "df_cross_val"
   ]
  },
  {
   "cell_type": "markdown",
   "metadata": {},
   "source": [
    "## 8.7. Hyperparameter Tunning"
   ]
  },
  {
   "cell_type": "code",
   "execution_count": 34,
   "metadata": {},
   "outputs": [],
   "source": [
    "param_dt = {\n",
    "    'classifier__max_depth': np.arange(4, 11, 2),  \n",
    "    'classifier__min_samples_split': np.arange(2, 11, 2),\n",
    "    'classifier__min_samples_leaf': np.arange(1, 11, 2)}"
   ]
  },
  {
   "cell_type": "markdown",
   "metadata": {},
   "source": [
    "### Model Optimization Evaluation"
   ]
  },
  {
   "cell_type": "markdown",
   "metadata": {},
   "source": [
    "#### Decision Tree\n"
   ]
  },
  {
   "cell_type": "code",
   "execution_count": 35,
   "metadata": {},
   "outputs": [],
   "source": [
    "grid_dt = GridSearchCV(pipe_dt, param_dt, cv=5).fit(X_train, y_train)"
   ]
  },
  {
   "cell_type": "code",
   "execution_count": 36,
   "metadata": {},
   "outputs": [
    {
     "name": "stdout",
     "output_type": "stream",
     "text": [
      "Train Set Score :  0.9708773207135056\n",
      "Test Set Score :  0.9703068122724909\n"
     ]
    }
   ],
   "source": [
    "print('Train Set Score : ', grid_dt.score(X_train, y_train))\n",
    "print('Test Set Score : ', grid_dt.score(X_test, y_test))"
   ]
  },
  {
   "cell_type": "code",
   "execution_count": 37,
   "metadata": {},
   "outputs": [
    {
     "name": "stdout",
     "output_type": "stream",
     "text": [
      "{'classifier__max_depth': np.int64(4), 'classifier__min_samples_leaf': np.int64(1), 'classifier__min_samples_split': np.int64(2)}\n",
      "\n",
      "\n",
      "Pipeline(steps=[('transformer',\n",
      "                 ColumnTransformer(transformers=[('scaler', MinMaxScaler(),\n",
      "                                                  ['age', 'bmi', 'HbA1c_level',\n",
      "                                                   'blood_glucose_level']),\n",
      "                                                 ('encoding', OneHotEncoder(),\n",
      "                                                  ['hypertension',\n",
      "                                                   'heart_disease',\n",
      "                                                   'smoking_history'])])),\n",
      "                ('classifier',\n",
      "                 DecisionTreeClassifier(max_depth=np.int64(4),\n",
      "                                        min_samples_leaf=np.int64(1),\n",
      "                                        min_samples_split=np.int64(2)))])\n",
      "\n",
      "\n",
      "Index(['mean_fit_time', 'std_fit_time', 'mean_score_time', 'std_score_time',\n",
      "       'param_classifier__max_depth', 'param_classifier__min_samples_leaf',\n",
      "       'param_classifier__min_samples_split', 'params', 'split0_test_score',\n",
      "       'split1_test_score', 'split2_test_score', 'split3_test_score',\n",
      "       'split4_test_score', 'mean_test_score', 'std_test_score',\n",
      "       'rank_test_score'],\n",
      "      dtype='object')\n"
     ]
    }
   ],
   "source": [
    "best_param_dt = grid_dt.best_params_\n",
    "print(best_param_dt)\n",
    "print('\\n')\n",
    "best_pipe_dt = grid_dt.best_estimator_\n",
    "print(best_pipe_dt)\n",
    "print('\\n')\n",
    "result_df_dt = pd.DataFrame.from_dict(grid_dt.cv_results_, orient='columns')\n",
    "print(result_df_dt.columns)"
   ]
  },
  {
   "cell_type": "code",
   "execution_count": 38,
   "metadata": {},
   "outputs": [
    {
     "name": "stdout",
     "output_type": "stream",
     "text": [
      "              precision    recall  f1-score   support\n",
      "\n",
      "           0       0.97      1.00      0.98     17513\n",
      "           1       1.00      0.67      0.80      1717\n",
      "\n",
      "    accuracy                           0.97     19230\n",
      "   macro avg       0.98      0.83      0.89     19230\n",
      "weighted avg       0.97      0.97      0.97     19230\n",
      "\n"
     ]
    }
   ],
   "source": [
    "print(classification_report(y_test, best_pipe_dt.predict(X_test)))"
   ]
  },
  {
   "cell_type": "code",
   "execution_count": 42,
   "metadata": {},
   "outputs": [],
   "source": [
    "models = {\n",
    "    'Decision Tree' : best_pipe_dt\n",
    "}\n",
    "\n",
    "metrics = {\n",
    "    'Recall' : recall_score\n",
    "}\n",
    "\n",
    "model_tuning = pd.DataFrame(columns = models.keys(), index=['Recall'])\n",
    "\n",
    "for metric in metrics.keys():\n",
    "  for model in models.keys():\n",
    "    model_tuning.loc[metric, model] = metrics[metric](y_test, models[model].predict(X_test))"
   ]
  },
  {
   "cell_type": "code",
   "execution_count": 43,
   "metadata": {},
   "outputs": [
    {
     "data": {
      "text/html": [
       "<div>\n",
       "<style scoped>\n",
       "    .dataframe tbody tr th:only-of-type {\n",
       "        vertical-align: middle;\n",
       "    }\n",
       "\n",
       "    .dataframe tbody tr th {\n",
       "        vertical-align: top;\n",
       "    }\n",
       "\n",
       "    .dataframe thead th {\n",
       "        text-align: right;\n",
       "    }\n",
       "</style>\n",
       "<table border=\"1\" class=\"dataframe\">\n",
       "  <thead>\n",
       "    <tr style=\"text-align: right;\">\n",
       "      <th></th>\n",
       "      <th>KNN</th>\n",
       "      <th>SVM</th>\n",
       "      <th>Decision Tree</th>\n",
       "      <th>Random Forest</th>\n",
       "      <th>XGBoost</th>\n",
       "    </tr>\n",
       "  </thead>\n",
       "  <tbody>\n",
       "    <tr>\n",
       "      <th>Recall</th>\n",
       "      <td>0.637158</td>\n",
       "      <td>0.565521</td>\n",
       "      <td>0.744321</td>\n",
       "      <td>0.684333</td>\n",
       "      <td>0.693069</td>\n",
       "    </tr>\n",
       "  </tbody>\n",
       "</table>\n",
       "</div>"
      ],
      "text/plain": [
       "             KNN       SVM Decision Tree Random Forest   XGBoost\n",
       "Recall  0.637158  0.565521      0.744321      0.684333  0.693069"
      ]
     },
     "execution_count": 43,
     "metadata": {},
     "output_type": "execute_result"
    }
   ],
   "source": [
    "df_model"
   ]
  },
  {
   "cell_type": "code",
   "execution_count": 44,
   "metadata": {},
   "outputs": [
    {
     "data": {
      "text/html": [
       "<div>\n",
       "<style scoped>\n",
       "    .dataframe tbody tr th:only-of-type {\n",
       "        vertical-align: middle;\n",
       "    }\n",
       "\n",
       "    .dataframe tbody tr th {\n",
       "        vertical-align: top;\n",
       "    }\n",
       "\n",
       "    .dataframe thead th {\n",
       "        text-align: right;\n",
       "    }\n",
       "</style>\n",
       "<table border=\"1\" class=\"dataframe\">\n",
       "  <thead>\n",
       "    <tr style=\"text-align: right;\">\n",
       "      <th></th>\n",
       "      <th>Decision Tree</th>\n",
       "    </tr>\n",
       "  </thead>\n",
       "  <tbody>\n",
       "    <tr>\n",
       "      <th>Recall</th>\n",
       "      <td>0.667443</td>\n",
       "    </tr>\n",
       "  </tbody>\n",
       "</table>\n",
       "</div>"
      ],
      "text/plain": [
       "       Decision Tree\n",
       "Recall      0.667443"
      ]
     },
     "execution_count": 44,
     "metadata": {},
     "output_type": "execute_result"
    }
   ],
   "source": [
    "model_tuning"
   ]
  },
  {
   "cell_type": "markdown",
   "metadata": {},
   "source": [
    "# 9. Model Saving"
   ]
  },
  {
   "cell_type": "code",
   "execution_count": 69,
   "metadata": {},
   "outputs": [
    {
     "data": {
      "text/plain": [
       "['model_dt.pkl']"
      ]
     },
     "execution_count": 69,
     "metadata": {},
     "output_type": "execute_result"
    }
   ],
   "source": [
    "joblib.dump(best_pipe_dt, 'model_dt.pkl')"
   ]
  },
  {
   "cell_type": "markdown",
   "metadata": {},
   "source": [
    "# 10. Model Inference"
   ]
  },
  {
   "cell_type": "markdown",
   "metadata": {},
   "source": [
    "# 11. Pengambilan Kesimpulan"
   ]
  },
  {
   "cell_type": "markdown",
   "metadata": {},
   "source": [
    "Model yang telah dilatih dan diuji dapat digunakan untuk memberikan prediksi risiko diabetes kepada individu berdasarkan data kesehatan mereka. "
   ]
  },
  {
   "cell_type": "markdown",
   "metadata": {},
   "source": [
    "# Conceptional Problem"
   ]
  },
  {
   "cell_type": "markdown",
   "metadata": {},
   "source": [
    "1. Jelaskan latar belakang adanya bagging dan cara kerja bagging !\n",
    "Begging dilakukan ketika data memiliki tingkat variabilitas tinggi.\n",
    "\n",
    "Digunakan untuk membantu membuat model machine learning kita lebih stabil dan akurat dengan cara menggabungkan beberapa model.\n",
    "\n",
    "2. Jelaskan perbedaan cara kerja algoritma Random Forest dengan algoritma boosting yang Anda pilih !\n",
    "Cara kerja Random Forest adalah dengan menggabungkan beberapa Decision Tree untuk meningkatkan akurasi model. Dapat mengurangi overfitting, tapi sangat kompleks untuk di jelaskan. \n",
    "sedangkan Decision Tree adalah dengan memilih fitur yang terbaik untuk membagi data pada setiap node. Dapat menangani data dengan fitur kategorikal dan numerik tapi cenderung overfit jika tidak dikendalikan dengan baik.\n",
    "\n",
    "3. Jelaskan apa yang dimaksud dengan Cross Validation !\n",
    "Cross Validation adalah teknik \n",
    "\n",
    "Cross-validation adalah teknik evaluasi model yang digunakan untuk menilai seberapa baik model generalisasi terhadap data yang tidak terlihat. Ini adalah metode yang efektif untuk mengukur kinerja model dan memitigasi masalah seperti overfitting"
   ]
  }
 ],
 "metadata": {
  "kernelspec": {
   "display_name": "fox",
   "language": "python",
   "name": "python3"
  },
  "language_info": {
   "codemirror_mode": {
    "name": "ipython",
    "version": 3
   },
   "file_extension": ".py",
   "mimetype": "text/x-python",
   "name": "python",
   "nbconvert_exporter": "python",
   "pygments_lexer": "ipython3",
   "version": "3.9.18"
  }
 },
 "nbformat": 4,
 "nbformat_minor": 2
}
