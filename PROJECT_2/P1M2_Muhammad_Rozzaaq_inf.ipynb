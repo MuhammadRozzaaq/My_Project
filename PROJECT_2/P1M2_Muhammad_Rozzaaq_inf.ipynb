{
 "cells": [
  {
   "cell_type": "code",
   "execution_count": 4,
   "metadata": {},
   "outputs": [],
   "source": [
    "import pandas as pd\n",
    "import joblib"
   ]
  },
  {
   "cell_type": "code",
   "execution_count": 11,
   "metadata": {},
   "outputs": [],
   "source": [
    "dummy = {'age': {1: 43.0, 2: 34.0, 3: 65.0, 4: 50.0, 5: 81.0},\n",
    " 'hypertension': {1: 0, 2: 0, 3: 0, 4: 0, 5: 0},\n",
    " 'heart_disease': {1: 1, 2: 0, 3: 1, 4: 0, 5: 0},\n",
    " 'smoking_history': {1: 'never',\n",
    "  2: 'current',\n",
    "  3: 'never',\n",
    "  4: 'current',\n",
    "  5: 'No Info'},\n",
    " 'bmi': {1: 31.32, 2: 56.8, 3: 40.04, 4: 35.23, 5: 31.32},\n",
    " 'HbA1c_level': {1: 5.1, 2: 5.9, 3: 7.0, 4: 6.1, 5: 4.9},\n",
    " 'blood_glucose_level': {1: 94, 2: 97, 3: 98, 4: 75, 5: 110}}\n",
    "\n",
    "df_dummy = pd.DataFrame(dummy)"
   ]
  },
  {
   "cell_type": "code",
   "execution_count": 12,
   "metadata": {},
   "outputs": [
    {
     "data": {
      "text/html": [
       "<div>\n",
       "<style scoped>\n",
       "    .dataframe tbody tr th:only-of-type {\n",
       "        vertical-align: middle;\n",
       "    }\n",
       "\n",
       "    .dataframe tbody tr th {\n",
       "        vertical-align: top;\n",
       "    }\n",
       "\n",
       "    .dataframe thead th {\n",
       "        text-align: right;\n",
       "    }\n",
       "</style>\n",
       "<table border=\"1\" class=\"dataframe\">\n",
       "  <thead>\n",
       "    <tr style=\"text-align: right;\">\n",
       "      <th></th>\n",
       "      <th>age</th>\n",
       "      <th>hypertension</th>\n",
       "      <th>heart_disease</th>\n",
       "      <th>smoking_history</th>\n",
       "      <th>bmi</th>\n",
       "      <th>HbA1c_level</th>\n",
       "      <th>blood_glucose_level</th>\n",
       "    </tr>\n",
       "  </thead>\n",
       "  <tbody>\n",
       "    <tr>\n",
       "      <th>1</th>\n",
       "      <td>43.0</td>\n",
       "      <td>0</td>\n",
       "      <td>1</td>\n",
       "      <td>never</td>\n",
       "      <td>31.32</td>\n",
       "      <td>5.1</td>\n",
       "      <td>94</td>\n",
       "    </tr>\n",
       "    <tr>\n",
       "      <th>2</th>\n",
       "      <td>34.0</td>\n",
       "      <td>0</td>\n",
       "      <td>0</td>\n",
       "      <td>current</td>\n",
       "      <td>56.80</td>\n",
       "      <td>5.9</td>\n",
       "      <td>97</td>\n",
       "    </tr>\n",
       "    <tr>\n",
       "      <th>3</th>\n",
       "      <td>65.0</td>\n",
       "      <td>0</td>\n",
       "      <td>1</td>\n",
       "      <td>never</td>\n",
       "      <td>40.04</td>\n",
       "      <td>7.0</td>\n",
       "      <td>98</td>\n",
       "    </tr>\n",
       "    <tr>\n",
       "      <th>4</th>\n",
       "      <td>50.0</td>\n",
       "      <td>0</td>\n",
       "      <td>0</td>\n",
       "      <td>current</td>\n",
       "      <td>35.23</td>\n",
       "      <td>6.1</td>\n",
       "      <td>75</td>\n",
       "    </tr>\n",
       "    <tr>\n",
       "      <th>5</th>\n",
       "      <td>81.0</td>\n",
       "      <td>0</td>\n",
       "      <td>0</td>\n",
       "      <td>No Info</td>\n",
       "      <td>31.32</td>\n",
       "      <td>4.9</td>\n",
       "      <td>110</td>\n",
       "    </tr>\n",
       "  </tbody>\n",
       "</table>\n",
       "</div>"
      ],
      "text/plain": [
       "    age  hypertension  heart_disease smoking_history    bmi  HbA1c_level  \\\n",
       "1  43.0             0              1           never  31.32          5.1   \n",
       "2  34.0             0              0         current  56.80          5.9   \n",
       "3  65.0             0              1           never  40.04          7.0   \n",
       "4  50.0             0              0         current  35.23          6.1   \n",
       "5  81.0             0              0         No Info  31.32          4.9   \n",
       "\n",
       "   blood_glucose_level  \n",
       "1                   94  \n",
       "2                   97  \n",
       "3                   98  \n",
       "4                   75  \n",
       "5                  110  "
      ]
     },
     "execution_count": 12,
     "metadata": {},
     "output_type": "execute_result"
    }
   ],
   "source": [
    "df_dummy"
   ]
  },
  {
   "cell_type": "code",
   "execution_count": 6,
   "metadata": {},
   "outputs": [],
   "source": [
    "bestmodel = joblib.load(\"model_dt.pkl\")"
   ]
  },
  {
   "cell_type": "code",
   "execution_count": 14,
   "metadata": {},
   "outputs": [
    {
     "data": {
      "text/plain": [
       "array([0, 0, 1, 0, 0])"
      ]
     },
     "execution_count": 14,
     "metadata": {},
     "output_type": "execute_result"
    }
   ],
   "source": [
    "y_predict_dummy = bestmodel.predict(df_dummy)\n",
    "y_predict_dummy"
   ]
  }
 ],
 "metadata": {
  "kernelspec": {
   "display_name": "fox",
   "language": "python",
   "name": "python3"
  },
  "language_info": {
   "codemirror_mode": {
    "name": "ipython",
    "version": 3
   },
   "file_extension": ".py",
   "mimetype": "text/x-python",
   "name": "python",
   "nbconvert_exporter": "python",
   "pygments_lexer": "ipython3",
   "version": "3.9.18"
  }
 },
 "nbformat": 4,
 "nbformat_minor": 2
}
